{
 "cells": [
  {
   "cell_type": "code",
   "execution_count": 14,
   "metadata": {},
   "outputs": [],
   "source": [
    "# -*- coding: utf-8 -*-\n",
    "from PIL import Image\n",
    "from PIL import ImageDraw\n",
    "from PIL import ImageFont\n",
    "import io\n",
    "import numpy as np\n",
    "import boto3\n",
    "from botocore.errorfactory import ClientError\n",
    "import operator"
   ]
  },
  {
   "cell_type": "code",
   "execution_count": 2,
   "metadata": {},
   "outputs": [],
   "source": [
    "s3 = boto3.client('s3')"
   ]
  },
  {
   "cell_type": "code",
   "execution_count": 3,
   "metadata": {},
   "outputs": [],
   "source": [
    "cats = [\n",
    "    'levicový nevolič',\n",
    "    'materialista',\n",
    "    'městský liberál',\n",
    "    'mladý těkavý',\n",
    "    'obranář',\n",
    "    'politicky pasivní',\n",
    "    'skutečný křesťan'\n",
    "]\n",
    "\n",
    "pics = [\n",
    "    'nevolic.png',\n",
    "    'materialista.png',\n",
    "    'liberal.png',\n",
    "    'tekavy.png',\n",
    "    'obranar.png',\n",
    "    'pasivni.png',\n",
    "    'krestan.png'\n",
    "]"
   ]
  },
  {
   "cell_type": "code",
   "execution_count": 4,
   "metadata": {},
   "outputs": [],
   "source": [
    "template = '<!DOCTYPE html><meta charset=\"UTF-8\">' \\\n",
    "    + '<meta property=\"og:url\" content=\"https://dev.datarozhlas.cz/profil-volice/share/{0}.html\" />' \\\n",
    "    + '<meta property=\"og:type\" content=\"article\" />' \\\n",
    "    + '<meta property=\"og:title\" content=\"Jsem z {1} % {2}\" />' \\\n",
    "    + '<meta property=\"og:description\" content=\"Udělejte si také test politické orientace, který připravil server iROZHLAS.cz s Medianem.\" />' \\\n",
    "    + '<meta property=\"og:image\" content=\"https://dev.datarozhlas.cz/profil-volice/share/{0}.png\" />' \\\n",
    "    + '<meta property=\"og:image:width\" content=\"1204\" />' \\\n",
    "    + '<meta property=\"og:image:height\" content=\"632\" />' \\\n",
    "    + '<meta name=\"twitter:card\" content=\"summary_large_image\">' \\\n",
    "    + '<meta name=\"twitter:site\" content=\"@irozhlascz\">' \\\n",
    "    + '<meta name=\"twitter:creator\" content=\"@datarozhlas\">' \\\n",
    "    + '<meta name=\"twitter:title\" content=\"Jsem z {1} % {2}\">' \\\n",
    "    + '<meta name=\"twitter:description\" content=\"Udělejte si také test politické orientace, který připravil server iROZHLAS.cz s Medianem.\">' \\\n",
    "    + '<meta name=\"twitter:image\" content=\"https://dev.datarozhlas.cz/profil-volice/share/{0}.png\">' \\\n",
    "    + '<script>window.location.replace(\"https://www.irozhlas.cz/zpravy-nahled/kalkulacka-median\");</script>'"
   ]
  },
  {
   "cell_type": "code",
   "execution_count": 34,
   "metadata": {},
   "outputs": [],
   "source": [
    "def make_share(context, env):\n",
    "    arr = context['arr']\n",
    "    res = dict(zip(cats, arr))\n",
    "    res = sorted(res.items(), key=operator.itemgetter(1), reverse=True)\n",
    "    \n",
    "    name = '_'.join([str(x) for x in arr])\n",
    "    \n",
    "    try:\n",
    "        s3.head_object(Bucket='datarozhlas', Key='/profil-volice/share/' + name + '.png')\n",
    "        return name\n",
    "    except ClientError:   \n",
    "        # pokud neexistue, vyrobit\n",
    "        pattern = Image.open('./imgs/canvas.jpg', 'r').convert('RGBA')\n",
    "        size = width, height = pattern.size\n",
    "        draw = ImageDraw.Draw(pattern,'RGBA')\n",
    "        font = ImageFont.truetype('Roboto-Regular.ttf', 58)\n",
    "\n",
    "        # insert obrázku\n",
    "        face = Image.open('./imgs/' + pics[cats.index(res[0][0])], 'r').convert('RGBA').resize((312, 600))\n",
    "\n",
    "        top = 16\n",
    "        for val in res:\n",
    "            text = val[0].decode('utf-8') + ': ' + str(val[1]).replace('.', ',') + ' %'\n",
    "            #offset = ((24 - len(text))/2) * 33\n",
    "            draw.text((450, top), text, (0, 0, 0, 0), font=font)\n",
    "            top += 88\n",
    "\n",
    "        pattern.paste(face, box=(60, 15), mask=face)\n",
    "        #zapsat obrazek\n",
    "        out_img = io.BytesIO()\n",
    "        pattern.save(out_img, format='PNG')\n",
    "\n",
    "        putFile = s3.put_object(Bucket='datarozhlas', \n",
    "                                Key='profil-volice/share/' + name + '.png',\n",
    "                                Body=out_img.getvalue(), \n",
    "                                ACL='public-read', \n",
    "                                ContentType='image/png')\n",
    "\n",
    "        #zapsat html\n",
    "        html = template.format(name, str(res[0][1]).replace('.', ',').replace(',0', ''), res[0][0])\n",
    "        putFile = s3.put_object(Bucket='datarozhlas', \n",
    "                                Key='profil-volice/share/' + name + '.html', \n",
    "                                Body=html, \n",
    "                                ACL='public-read', \n",
    "                                ContentType='text/html')\n",
    "        return name"
   ]
  },
  {
   "cell_type": "code",
   "execution_count": 36,
   "metadata": {},
   "outputs": [
    {
     "data": {
      "text/plain": [
       "'25_25_25_1_1_2_2'"
      ]
     },
     "execution_count": 36,
     "metadata": {},
     "output_type": "execute_result"
    }
   ],
   "source": [
    "make_share({'arr': [25, 25, 25, 1, 1, 2, 2]}, 'x')"
   ]
  }
 ],
 "metadata": {
  "kernelspec": {
   "display_name": "Python 2",
   "language": "python",
   "name": "python2"
  },
  "language_info": {
   "codemirror_mode": {
    "name": "ipython",
    "version": 2
   },
   "file_extension": ".py",
   "mimetype": "text/x-python",
   "name": "python",
   "nbconvert_exporter": "python",
   "pygments_lexer": "ipython2",
   "version": "2.7.15"
  }
 },
 "nbformat": 4,
 "nbformat_minor": 2
}
